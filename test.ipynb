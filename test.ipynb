{
 "cells": [
  {
   "cell_type": "code",
   "execution_count": 3,
   "source": [
    "# Import the libraries\r\n",
    "import tensorflow as tf\r\n",
    "from tensorflow import keras\r\n",
    "import matplotlib.pyplot as plt\r\n",
    "#physical_devices = tf.config.list_physical_devices('GPU')\r\n",
    "#tf.config.experimental.set_memory_growth(physical_devices[0], enable=True)\r\n",
    "import numpy as np\r\n",
    "import matplotlib.pyplot as plt  \r\n",
    "import pandas as pd\r\n",
    "from numpy import loadtxt\r\n",
    "from tensorflow.keras.models import load_model,save_model\r\n",
    "from tensorflow.keras.models import Sequential, Model\r\n",
    "from tensorflow.keras.layers import Dense, Dropout, Activation,Flatten,Input\r\n",
    "from tensorflow.keras import regularizers\r\n",
    "from tensorflow.keras.optimizers import Adam,RMSprop\r\n",
    "from tensorflow.keras.callbacks import EarlyStopping, ModelCheckpoint\r\n",
    "from sklearn.metrics import mean_squared_error\r\n",
    "import math,json,os\r\n",
    "\r\n",
    "#my scaler\r\n",
    "import predict_utils\r\n",
    "#read pre-trained scaler\r\n",
    "from pickle import load\r\n",
    "\r\n",
    "anomaly_threshold = 0.15\r\n",
    "tolerance = 20\r\n",
    "\r\n",
    "try:\r\n",
    "    # Load the scaler\r\n",
    "    scaler = load(open('scaler.pkl', 'rb'))\r\n",
    "    # Load model\r\n",
    "    predict_model = load_model(\"./conv_ae.h5\")\r\n",
    "except:\r\n",
    "    print(\"loading error\")\r\n",
    "\r\n",
    "# Read Dataframe\r\n",
    "data_root_path = \"E:\\Server_mantain\\Spark_test\\dataset\\Zabbix_monitor_SB\\concate_with_disk\"\r\n",
    "data5v_path = os.path.join(data_root_path,\"predict_data5V.csv\")\r\n",
    "data6v_path = os.path.join(data_root_path,\"predict_data6V.csv\")\r\n",
    "data5v = predict_utils.read_data(data5v_path,fill_zero=True)\r\n",
    "data6v = predict_utils.read_data(data6v_path,fill_zero=True)\r\n",
    "\r\n",
    "# Sliding window generate Input Dataframe\r\n",
    "data_list = []\r\n",
    "lag = 1\r\n",
    "for i in range(0,data5v.shape[0]-lag,lag):\r\n",
    "    data_list.append(data5v[i:i+100])\r\n",
    "for i in range(0,data6v.shape[0]-lag,lag):\r\n",
    "    data_list.append(data5v[i:i+100])"
   ],
   "outputs": [
    {
     "output_type": "stream",
     "name": "stdout",
     "text": [
      "host                   0\n",
      "CPU utilization (%)    0\n",
      "Memory used  (%)       1\n",
      "dtype: int64\n",
      "host                   0\n",
      "CPU utilization (%)    0\n",
      "Memory used  (%)       0\n",
      "dtype: int64\n",
      "                                host  CPU utilization (%)  Memory used  (%)\n",
      "dt                                                                         \n",
      "2021-06-22 18:41:00  TWKHH01OPTIPW5V              19.8383            0.0000\n",
      "2021-06-22 18:44:00  TWKHH01OPTIPW5V              18.7174           18.9454\n",
      "2021-06-22 18:47:00  TWKHH01OPTIPW5V               1.8868           21.0194\n",
      "2021-06-22 18:50:00  TWKHH01OPTIPW5V              11.0442           17.0870\n",
      "2021-06-22 18:53:00  TWKHH01OPTIPW5V               2.0538           13.7514\n",
      "host                   0\n",
      "CPU utilization (%)    0\n",
      "Memory used  (%)       0\n",
      "dtype: int64\n",
      "host                   0\n",
      "CPU utilization (%)    0\n",
      "Memory used  (%)       0\n",
      "dtype: int64\n",
      "                                host  CPU utilization (%)  Memory used  (%)\n",
      "dt                                                                         \n",
      "2021-06-22 18:41:00  TWKHH01OPTIPW6V              92.9762           83.7818\n",
      "2021-06-22 18:44:00  TWKHH01OPTIPW6V              46.1848           94.4585\n",
      "2021-06-22 18:47:00  TWKHH01OPTIPW6V              69.8077           88.9479\n",
      "2021-06-22 18:50:00  TWKHH01OPTIPW6V              71.7389           90.2903\n",
      "2021-06-22 18:53:00  TWKHH01OPTIPW6V              63.1772           32.2672\n"
     ]
    }
   ],
   "metadata": {}
  },
  {
   "cell_type": "code",
   "execution_count": 2,
   "source": [
    "zip(data_list[0].values,data_list[0].index)\r\n",
    "\r\n",
    "type(data_list[0].index)"
   ],
   "outputs": [
    {
     "output_type": "execute_result",
     "data": {
      "text/plain": [
       "pandas.core.indexes.datetimes.DatetimeIndex"
      ]
     },
     "metadata": {},
     "execution_count": 2
    }
   ],
   "metadata": {}
  },
  {
   "cell_type": "code",
   "execution_count": 4,
   "source": [
    "from collections import Counter\r\n",
    "In_data = data_list[0]\r\n",
    "host = In_data.iloc[:,0].values"
   ],
   "outputs": [
    {
     "output_type": "execute_result",
     "data": {
      "text/plain": [
       "dict_keys(['TWKHH01OPTIPW5V'])"
      ]
     },
     "metadata": {},
     "execution_count": 4
    }
   ],
   "metadata": {}
  },
  {
   "cell_type": "code",
   "execution_count": 2,
   "source": [
    "import random\r\n",
    "len(data_list)"
   ],
   "outputs": [
    {
     "output_type": "execute_result",
     "data": {
      "text/plain": [
       "28797"
      ]
     },
     "metadata": {},
     "execution_count": 2
    }
   ],
   "metadata": {}
  },
  {
   "cell_type": "code",
   "execution_count": 17,
   "source": [
    "num_list = list(range(len(data_list)))\r\n",
    "random.shuffle(num_list) \r\n",
    "for sample_data in  random.sample(data_list,1) :\r\n",
    "\r\n",
    "    \r\n",
    "    In_data = sample_data\r\n",
    "    \r\n",
    "    usage = In_data.iloc[:,1:].values\r\n",
    "    host = In_data.iloc[:,0].values\r\n",
    "    date_time = In_data.index\r\n",
    "    #print(\"{} ~ {}\".format(In_data.index[0],In_data.index[-1]))\r\n",
    "    # Fit scaler with shape (None,8)\r\n",
    "    usage = np.concatenate([usage,usage,usage,usage],axis=1)\r\n",
    "    usage = scaler.transform(usage)[:,:2]\r\n",
    "\r\n",
    "    # Generate sliding windows\r\n",
    "    window_size = 32\r\n",
    "\r\n",
    "    X_list = []\r\n",
    "    time_list = []\r\n",
    "    for i in range(0,usage.shape[0]-window_size):\r\n",
    "        time_list.append(date_time[i:i+window_size])\r\n",
    "        X_list.append(usage[i:i+window_size,:])\r\n",
    "\r\n",
    "    \r\n",
    "    # X shape : (window_num,32,2)\r\n",
    "    print(time_list[0][0],time_list[0][-1])"
   ],
   "outputs": [
    {
     "output_type": "stream",
     "name": "stdout",
     "text": [
      "2021-07-11 16:56:00 2021-07-11 18:29:00\n"
     ]
    }
   ],
   "metadata": {}
  },
  {
   "cell_type": "code",
   "execution_count": 29,
   "source": [
    "from scipy import stats\r\n",
    "stats.mode(host)[0].item()"
   ],
   "outputs": [
    {
     "output_type": "execute_result",
     "data": {
      "text/plain": [
       "'TWKHH01OPTIPW5V'"
      ]
     },
     "metadata": {},
     "execution_count": 29
    }
   ],
   "metadata": {}
  }
 ],
 "metadata": {
  "orig_nbformat": 4,
  "language_info": {
   "name": "python",
   "version": "3.8.5",
   "mimetype": "text/x-python",
   "codemirror_mode": {
    "name": "ipython",
    "version": 3
   },
   "pygments_lexer": "ipython3",
   "nbconvert_exporter": "python",
   "file_extension": ".py"
  },
  "kernelspec": {
   "name": "python3",
   "display_name": "Python 3.8.5 64-bit ('rtx3070': conda)"
  },
  "interpreter": {
   "hash": "4a78cbfad98a04694cc4c8fa72539107c04a3d52462fa9c499da129c1fdc5404"
  }
 },
 "nbformat": 4,
 "nbformat_minor": 2
}